{
 "cells": [
  {
   "cell_type": "code",
   "execution_count": 2,
   "metadata": {
    "ExecuteTime": {
     "end_time": "2020-06-04T09:25:47.236176Z",
     "start_time": "2020-06-04T09:25:45.570685Z"
    }
   },
   "outputs": [],
   "source": [
    "import pandas as pd\n",
    "import matplotlib.pyplot as plt\n",
    "import seaborn as sns"
   ]
  },
  {
   "cell_type": "code",
   "execution_count": 6,
   "metadata": {
    "ExecuteTime": {
     "end_time": "2020-06-04T09:25:59.269127Z",
     "start_time": "2020-06-04T09:25:59.211591Z"
    }
   },
   "outputs": [],
   "source": [
    "df = pd.read_csv('train.csv')\n",
    "df_test = pd"
   ]
  },
  {
   "cell_type": "code",
   "execution_count": 9,
   "metadata": {
    "ExecuteTime": {
     "end_time": "2020-06-04T09:27:03.343780Z",
     "start_time": "2020-06-04T09:27:03.306075Z"
    }
   },
   "outputs": [
    {
     "name": "stdout",
     "output_type": "stream",
     "text": [
      "<class 'pandas.core.frame.DataFrame'>\n",
      "RangeIndex: 3865 entries, 0 to 3864\n",
      "Data columns (total 80 columns):\n",
      " #   Column                                                                                   Non-Null Count  Dtype  \n",
      "---  ------                                                                                   --------------  -----  \n",
      " 0   galactic year                                                                            3865 non-null   int64  \n",
      " 1   galaxy                                                                                   3865 non-null   object \n",
      " 2   existence expectancy index                                                               3864 non-null   float64\n",
      " 3   existence expectancy at birth                                                            3864 non-null   float64\n",
      " 4   Gross income per capita                                                                  3837 non-null   float64\n",
      " 5   Income Index                                                                             3837 non-null   float64\n",
      " 6   Expected years of education (galactic years)                                             3732 non-null   float64\n",
      " 7   Mean years of education (galactic years)                                                 3502 non-null   float64\n",
      " 8   Intergalactic Development Index (IDI)                                                    3474 non-null   float64\n",
      " 9   Education Index                                                                          3474 non-null   float64\n",
      " 10  Intergalactic Development Index (IDI), Rank                                              3432 non-null   float64\n",
      " 11  Population using at least basic drinking-water services (%)                              2021 non-null   float64\n",
      " 12  Population using at least basic sanitation services (%)                                  2015 non-null   float64\n",
      " 13  Gross capital formation (% of GGP)                                                       1502 non-null   float64\n",
      " 14  Population, total (millions)                                                             1271 non-null   float64\n",
      " 15  Population, urban (%)                                                                    1271 non-null   float64\n",
      " 16  Mortality rate, under-five (per 1,000 live births)                                       1271 non-null   float64\n",
      " 17  Mortality rate, infant (per 1,000 live births)                                           1259 non-null   float64\n",
      " 18  Old age dependency ratio (old age (65 and older) per 100 creatures (ages 15-64))         1264 non-null   float64\n",
      " 19  Population, ages 15–64 (millions)                                                        1264 non-null   float64\n",
      " 20  Population, ages 65 and older (millions)                                                 1264 non-null   float64\n",
      " 21  Life expectancy at birth, male (galactic years)                                          1264 non-null   float64\n",
      " 22  Life expectancy at birth, female (galactic years)                                        1264 non-null   float64\n",
      " 23  Population, under age 5 (millions)                                                       1264 non-null   float64\n",
      " 24  Young age (0-14) dependency ratio (per 100 creatures ages 15-64)                         1264 non-null   float64\n",
      " 25  Adolescent birth rate (births per 1,000 female creatures ages 15-19)                     1252 non-null   float64\n",
      " 26  Total unemployment rate (female to male ratio)                                           1237 non-null   float64\n",
      " 27  Vulnerable employment (% of total employment)                                            1237 non-null   float64\n",
      " 28  Unemployment, total (% of labour force)                                                  1237 non-null   float64\n",
      " 29  Employment in agriculture (% of total employment)                                        1237 non-null   float64\n",
      " 30  Labour force participation rate (% ages 15 and older)                                    1237 non-null   float64\n",
      " 31  Labour force participation rate (% ages 15 and older), female                            1237 non-null   float64\n",
      " 32  Employment in services (% of total employment)                                           1237 non-null   float64\n",
      " 33  Labour force participation rate (% ages 15 and older), male                              1237 non-null   float64\n",
      " 34  Employment to population ratio (% ages 15 and older)                                     1237 non-null   float64\n",
      " 35  Jungle area (% of total land area)                                                       1234 non-null   float64\n",
      " 36  Share of employment in nonagriculture, female (% of total employment in nonagriculture)  1237 non-null   float64\n",
      " 37  Youth unemployment rate (female to male ratio)                                           1236 non-null   float64\n",
      " 38  Unemployment, youth (% ages 15–24)                                                       1236 non-null   float64\n",
      " 39  Mortality rate, female grown up (per 1,000 people)                                       1253 non-null   float64\n",
      " 40  Mortality rate, male grown up (per 1,000 people)                                         1253 non-null   float64\n",
      " 41  Infants lacking immunization, red hot disease (% of one-galactic year-olds)              1219 non-null   float64\n",
      " 42  Infants lacking immunization, Combination Vaccine (% of one-galactic year-olds)          1219 non-null   float64\n",
      " 43  Gross galactic product (GGP) per capita                                                  1202 non-null   float64\n",
      " 44  Gross galactic product (GGP), total                                                      1202 non-null   float64\n",
      " 45  Outer Galaxies direct investment, net inflows (% of GGP)                                 1169 non-null   float64\n",
      " 46  Exports and imports (% of GGP)                                                           1144 non-null   float64\n",
      " 47  Share of seats in senate (% held by female)                                              1123 non-null   float64\n",
      " 48  Natural resource depletion                                                               1132 non-null   float64\n",
      " 49  Mean years of education, female (galactic years)                                         1140 non-null   float64\n",
      " 50  Mean years of education, male (galactic years)                                           1138 non-null   float64\n",
      " 51  Expected years of education, female (galactic years)                                     1109 non-null   float64\n",
      " 52  Expected years of education, male (galactic years)                                       1108 non-null   float64\n",
      " 53  Maternal mortality ratio (deaths per 100,000 live births)                                1252 non-null   float64\n",
      " 54  Renewable energy consumption (% of total final energy consumption)                       1235 non-null   float64\n",
      " 55  Estimated gross galactic income per capita, male                                         1055 non-null   float64\n",
      " 56  Estimated gross galactic income per capita, female                                       1055 non-null   float64\n",
      " 57  Rural population with access to electricity (%)                                          1029 non-null   float64\n",
      " 58  Domestic credit provided by financial sector (% of GGP)                                  1079 non-null   float64\n",
      " 59  Population with at least some secondary education, female (% ages 25 and older)          1089 non-null   float64\n",
      " 60  Population with at least some secondary education, male (% ages 25 and older)            1087 non-null   float64\n",
      " 61  Gross fixed capital formation (% of GGP)                                                 1074 non-null   float64\n",
      " 62  Remittances, inflows (% of GGP)                                                          1028 non-null   float64\n",
      " 63  Population with at least some secondary education (% ages 25 and older)                  1051 non-null   float64\n",
      " 64  Intergalactic inbound tourists (thousands)                                               995 non-null    float64\n",
      " 65  Gross enrolment ratio, primary (% of primary under-age population)                       1038 non-null   float64\n",
      " 66  Respiratory disease incidence (per 100,000 people)                                       896 non-null    float64\n",
      " 67  Interstellar phone subscriptions (per 100 people)                                        891 non-null    float64\n",
      " 68  Interstellar Data Net users, total (% of population)                                     872 non-null    float64\n",
      " 69  Current health expenditure (% of GGP)                                                    867 non-null    float64\n",
      " 70  Intergalactic Development Index (IDI), female                                            916 non-null    float64\n",
      " 71  Intergalactic Development Index (IDI), male                                              915 non-null    float64\n",
      " 72  Gender Development Index (GDI)                                                           914 non-null    float64\n",
      " 73  Intergalactic Development Index (IDI), female, Rank                                      893 non-null    float64\n",
      " 74  Intergalactic Development Index (IDI), male, Rank                                        892 non-null    float64\n",
      " 75  Adjusted net savings                                                                     912 non-null    float64\n",
      " 76  Creature Immunodeficiency Disease prevalence, adult (% ages 15-49), total                941 non-null    float64\n",
      " 77  Private galaxy capital flows (% of GGP)                                                  874 non-null    float64\n",
      " 78  Gender Inequality Index (GII)                                                            844 non-null    float64\n",
      " 79  y                                                                                        3865 non-null   float64\n",
      "dtypes: float64(78), int64(1), object(1)\n",
      "memory usage: 2.4+ MB\n"
     ]
    }
   ],
   "source": [
    "# huge ratio of nulls throughout\n",
    "df.info()"
   ]
  },
  {
   "cell_type": "code",
   "execution_count": 13,
   "metadata": {
    "ExecuteTime": {
     "end_time": "2020-06-04T09:29:41.798528Z",
     "start_time": "2020-06-04T09:29:41.790229Z"
    }
   },
   "outputs": [
    {
     "name": "stdout",
     "output_type": "stream",
     "text": [
      "There are 26 unique years\n",
      "There are 181 unique galaxies\n"
     ]
    }
   ],
   "source": [
    "print(\"There are\", len(df['galactic year'].unique()), \"unique years\")\n",
    "print(\"There are\", len(df['galaxy'].unique()), \"unique galaxies\")"
   ]
  },
  {
   "cell_type": "code",
   "execution_count": null,
   "metadata": {},
   "outputs": [],
   "source": []
  }
 ],
 "metadata": {
  "kernelspec": {
   "display_name": "main_python_env",
   "language": "python",
   "name": "main_env"
  },
  "language_info": {
   "codemirror_mode": {
    "name": "ipython",
    "version": 3
   },
   "file_extension": ".py",
   "mimetype": "text/x-python",
   "name": "python",
   "nbconvert_exporter": "python",
   "pygments_lexer": "ipython3",
   "version": "3.8.2"
  },
  "toc": {
   "base_numbering": 1,
   "nav_menu": {},
   "number_sections": true,
   "sideBar": true,
   "skip_h1_title": false,
   "title_cell": "Table of Contents",
   "title_sidebar": "Contents",
   "toc_cell": false,
   "toc_position": {},
   "toc_section_display": true,
   "toc_window_display": false
  },
  "varInspector": {
   "cols": {
    "lenName": 16,
    "lenType": 16,
    "lenVar": 40
   },
   "kernels_config": {
    "python": {
     "delete_cmd_postfix": "",
     "delete_cmd_prefix": "del ",
     "library": "var_list.py",
     "varRefreshCmd": "print(var_dic_list())"
    },
    "r": {
     "delete_cmd_postfix": ") ",
     "delete_cmd_prefix": "rm(",
     "library": "var_list.r",
     "varRefreshCmd": "cat(var_dic_list()) "
    }
   },
   "types_to_exclude": [
    "module",
    "function",
    "builtin_function_or_method",
    "instance",
    "_Feature"
   ],
   "window_display": false
  }
 },
 "nbformat": 4,
 "nbformat_minor": 4
}
